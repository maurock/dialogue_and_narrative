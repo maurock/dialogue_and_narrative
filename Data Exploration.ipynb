{
 "cells": [
  {
   "cell_type": "markdown",
   "id": "c017b948",
   "metadata": {},
   "source": [
    "# Data exploration"
   ]
  },
  {
   "cell_type": "code",
   "execution_count": 160,
   "id": "9407a603",
   "metadata": {},
   "outputs": [],
   "source": [
    "from datasets import load_dataset\n",
    "from transformers import pipeline\n",
    "from tqdm import tqdm\n",
    "from transformers import AutoTokenizer\n",
    "from transformers import BertForQuestionAnswering\n",
    "from transformers import BertTokenizer\n",
    "import time\n",
    "import numpy as np\n",
    "import pandas as pd\n",
    "import torch"
   ]
  },
  {
   "cell_type": "code",
   "execution_count": 161,
   "id": "869773db",
   "metadata": {},
   "outputs": [
    {
     "name": "stderr",
     "output_type": "stream",
     "text": [
      "Reusing dataset doc2dial (./data_cache/doc2dial/dialogue_domain/1.0.1/c15afdf53780a8d6ebea7aec05384432195b356f879aa53a4ee39b740d520642)\n"
     ]
    }
   ],
   "source": [
    "split = \"train\"\n",
    "cache_dir = \"./data_cache\"\n",
    "\n",
    "dialogue_dataset = load_dataset(\n",
    "    \"doc2dial\",\n",
    "    name=\"dialogue_domain\",  # this is the name of the dataset for the second subtask, dialog generation\n",
    "    split=split,\n",
    "    ignore_verifications=True,\n",
    "    cache_dir=cache_dir,\n",
    ")"
   ]
  },
  {
   "cell_type": "code",
   "execution_count": 162,
   "id": "5bdce100",
   "metadata": {},
   "outputs": [
    {
     "name": "stderr",
     "output_type": "stream",
     "text": [
      "Reusing dataset doc2dial (./data_cache/doc2dial/document_domain/1.0.1/c15afdf53780a8d6ebea7aec05384432195b356f879aa53a4ee39b740d520642)\n"
     ]
    }
   ],
   "source": [
    "document_dataset = load_dataset(\n",
    "    \"doc2dial\",\n",
    "    name=\"document_domain\",  # this is the name of the dataset for the second subtask, dialog generation\n",
    "    split=split,\n",
    "    ignore_verifications=True,\n",
    "    cache_dir=cache_dir,\n",
    ")"
   ]
  },
  {
   "cell_type": "code",
   "execution_count": 163,
   "id": "e1219d15",
   "metadata": {},
   "outputs": [
    {
     "data": {
      "text/plain": [
       "{'dial_id': '9f44c1539efe6f7e79b02eb1b413aa43',\n",
       " 'doc_id': 'Top 5 DMV Mistakes and How to Avoid Them#3_0',\n",
       " 'domain': 'dmv',\n",
       " 'turns': [{'turn_id': 1,\n",
       "   'role': 'user',\n",
       "   'da': 'query_condition',\n",
       "   'references': [{'sp_id': '4', 'label': 'precondition'}],\n",
       "   'utterance': 'Hello, I forgot o update my address, can you help me with that?'},\n",
       "  {'turn_id': 2,\n",
       "   'role': 'agent',\n",
       "   'da': 'respond_solution',\n",
       "   'references': [{'sp_id': '6', 'label': 'solution'},\n",
       "    {'sp_id': '7', 'label': 'solution'}],\n",
       "   'utterance': 'hi, you have to report any change of address to DMV within 10 days after moving. You should do this both for the address associated with your license and all the addresses associated with all your vehicles.'},\n",
       "  {'turn_id': 3,\n",
       "   'role': 'user',\n",
       "   'da': 'query_solution',\n",
       "   'references': [{'sp_id': '56', 'label': 'solution'}],\n",
       "   'utterance': 'Can I do my DMV transactions online?'},\n",
       "  {'turn_id': 4,\n",
       "   'role': 'agent',\n",
       "   'da': 'respond_solution',\n",
       "   'references': [{'sp_id': '56', 'label': 'solution'}],\n",
       "   'utterance': 'Yes, you can sign up for MyDMV for all the online transactions needed.'},\n",
       "  {'turn_id': 5,\n",
       "   'role': 'user',\n",
       "   'da': 'query_condition',\n",
       "   'references': [{'sp_id': '48', 'label': 'precondition'}],\n",
       "   'utterance': 'Thanks, and in case I forget to bring all of the documentation needed to the DMV office, what can I do?'},\n",
       "  {'turn_id': 6,\n",
       "   'role': 'agent',\n",
       "   'da': 'respond_solution',\n",
       "   'references': [{'sp_id': '49', 'label': 'solution'},\n",
       "    {'sp_id': '50', 'label': 'solution'},\n",
       "    {'sp_id': '52', 'label': 'solution'}],\n",
       "   'utterance': \"This happens often with our customers so that's why our website and MyDMV are so useful for our customers. Just check if you can make your transaction online so you don't have to go to the DMV Office.\"},\n",
       "  {'turn_id': 7,\n",
       "   'role': 'user',\n",
       "   'da': 'query_solution',\n",
       "   'references': [{'sp_id': '6', 'label': 'solution'},\n",
       "    {'sp_id': '7', 'label': 'solution'}],\n",
       "   'utterance': 'Ok, and can you tell me again where should I report my new address?'},\n",
       "  {'turn_id': 8,\n",
       "   'role': 'agent',\n",
       "   'da': 'respond_solution',\n",
       "   'references': [{'sp_id': '6', 'label': 'solution'},\n",
       "    {'sp_id': '7', 'label': 'solution'}],\n",
       "   'utterance': \"Sure. Any change of address must be reported to the DMV, that's for the address associated with your license and any of your vehicles.\"},\n",
       "  {'turn_id': 9,\n",
       "   'role': 'user',\n",
       "   'da': 'query_condition',\n",
       "   'references': [{'sp_id': '40', 'label': 'precondition'}],\n",
       "   'utterance': 'Can you tell me more about Traffic points and their cost?'},\n",
       "  {'turn_id': 10,\n",
       "   'role': 'agent',\n",
       "   'da': 'respond_solution',\n",
       "   'references': [{'sp_id': '41', 'label': 'solution'},\n",
       "    {'sp_id': '43', 'label': 'solution'}],\n",
       "   'utterance': 'Traffic points is the system used by DMV to track dangerous drivers. The cost of the traffic points is independent of the DRA, so you get a separate charge based on the total points you accumulate.'}]}"
      ]
     },
     "execution_count": 163,
     "metadata": {},
     "output_type": "execute_result"
    }
   ],
   "source": [
    "dialogue_dataset[0]"
   ]
  },
  {
   "cell_type": "code",
   "execution_count": 164,
   "id": "d7f019f5",
   "metadata": {},
   "outputs": [
    {
     "data": {
      "text/plain": [
       "{'domain': 'ssa',\n",
       " 'doc_id': 'Direct Deposit | Social Security Administration#2_0',\n",
       " 'title': 'Direct Deposit | Social Security Administration#2',\n",
       " 'doc_text': \"\\n\\nSet Up or Change Your Direct Deposit of Benefit Payment \\nDo you want to set up or change the direct deposit of your benefit payment? We are constantly expandingand improving our online services, including the ability to set up or change your direct depositinformation. If you already receive Social Security or Supplemental Security Income SSI benefitsand you have a bank account, simply log in to or create your personal and secure my Social Security account. \\n\\nWhat is Direct Deposit? \\nDirect deposit is a simple, safe, and secure way to get benefits. If you need us to send your payment to abank or credit union account , have all of the following information ready when you apply. Social Security number Bank routing transit number Account type checking or savings Account number How to Set Up or Change Direct Deposit of Benefit Payment Online Log in to your account. Sign in and Select the blue Benefits & Payment Details link on the right side of the screen. Scroll down and select the Update Direct Deposit button, and choose if you are the owner or co - ownerof the bank account. Enter your bank account information and select Next. Review and verify your banking information and select Submit then select Done. You can also decide when your change will take effect, by simply using the My Profile tab within mySocial Security. Don't have a my Social Security Account? Creating a free my Social Security account takes less than 10 minutes, lets you set up or change your direct deposit and gives you access to many other online services. \\n\\nAdditional information related to this service \\nAs of March 1 , 2013 , you are required to receive your payments electronically. If you applied for benefitsbefore that date and did not sign up for electronic payments at that time , we strongly urge you to do sonow. For more information regarding switching to an electronic payment if you don t have a bank account , visit Treasury s Go Direct website or call the helpline at 1 - 800 - 333 - 1795. \\n\\nStill have questions? \\nIf you have questions or need help understanding how to set up or change direct deposit online , call ourtoll - free number at 1 - 800 - 772 - 1213 or visit your Social Security office. If you are deaf or hard of hearing , call our toll - free TTY number , 1 - 800 - 325 - 0778, between7 a.m. and 7 p.m. Monday through Friday. \",\n",
       " 'spans': [{'id_sp': '1',\n",
       "   'tag': 'h3',\n",
       "   'start_sp': 0,\n",
       "   'end_sp': 59,\n",
       "   'text_sp': '\\n\\nSet Up or Change Your Direct Deposit of Benefit Payment \\n',\n",
       "   'title': 'Set Up or Change Your Direct Deposit of Benefit Payment',\n",
       "   'parent_titles': '[]',\n",
       "   'id_sec': 't_0',\n",
       "   'start_sec': 0,\n",
       "   'text_sec': '\\n\\nSet Up or Change Your Direct Deposit of Benefit Payment \\n',\n",
       "   'end_sec': 59},\n",
       "  {'id_sp': '2',\n",
       "   'tag': 'u',\n",
       "   'start_sp': 59,\n",
       "   'end_sp': 135,\n",
       "   'text_sp': 'Do you want to set up or change the direct deposit of your benefit payment? ',\n",
       "   'title': 'Set Up or Change Your Direct Deposit of Benefit Payment',\n",
       "   'parent_titles': '[]',\n",
       "   'id_sec': '1',\n",
       "   'start_sec': 59,\n",
       "   'text_sec': 'Do you want to set up or change the direct deposit of your benefit payment? We are constantly expandingand improving our online services, including the ability to set up or change your direct depositinformation. If you already receive Social Security or Supplemental Security Income SSI benefitsand you have a bank account, simply log in to or create your personal and secure my Social Security account. ',\n",
       "   'end_sec': 463},\n",
       "  {'id_sp': '3',\n",
       "   'tag': 'u',\n",
       "   'start_sp': 135,\n",
       "   'end_sp': 271,\n",
       "   'text_sp': 'We are constantly expandingand improving our online services, including the ability to set up or change your direct depositinformation. ',\n",
       "   'title': 'Set Up or Change Your Direct Deposit of Benefit Payment',\n",
       "   'parent_titles': '[]',\n",
       "   'id_sec': '1',\n",
       "   'start_sec': 59,\n",
       "   'text_sec': 'Do you want to set up or change the direct deposit of your benefit payment? We are constantly expandingand improving our online services, including the ability to set up or change your direct depositinformation. If you already receive Social Security or Supplemental Security Income SSI benefitsand you have a bank account, simply log in to or create your personal and secure my Social Security account. ',\n",
       "   'end_sec': 463},\n",
       "  {'id_sp': '4',\n",
       "   'tag': 'u',\n",
       "   'start_sp': 271,\n",
       "   'end_sp': 358,\n",
       "   'text_sp': 'If you already receive Social Security or Supplemental Security Income SSI benefitsand ',\n",
       "   'title': 'Set Up or Change Your Direct Deposit of Benefit Payment',\n",
       "   'parent_titles': '[]',\n",
       "   'id_sec': '1',\n",
       "   'start_sec': 59,\n",
       "   'text_sec': 'Do you want to set up or change the direct deposit of your benefit payment? We are constantly expandingand improving our online services, including the ability to set up or change your direct depositinformation. If you already receive Social Security or Supplemental Security Income SSI benefitsand you have a bank account, simply log in to or create your personal and secure my Social Security account. ',\n",
       "   'end_sec': 463},\n",
       "  {'id_sp': '5',\n",
       "   'tag': 'u',\n",
       "   'start_sp': 358,\n",
       "   'end_sp': 463,\n",
       "   'text_sp': 'you have a bank account, simply log in to or create your personal and secure my Social Security account. ',\n",
       "   'title': 'Set Up or Change Your Direct Deposit of Benefit Payment',\n",
       "   'parent_titles': '[]',\n",
       "   'id_sec': '1',\n",
       "   'start_sec': 59,\n",
       "   'text_sec': 'Do you want to set up or change the direct deposit of your benefit payment? We are constantly expandingand improving our online services, including the ability to set up or change your direct depositinformation. If you already receive Social Security or Supplemental Security Income SSI benefitsand you have a bank account, simply log in to or create your personal and secure my Social Security account. ',\n",
       "   'end_sec': 463},\n",
       "  {'id_sp': '6',\n",
       "   'tag': 'h3',\n",
       "   'start_sp': 463,\n",
       "   'end_sp': 490,\n",
       "   'text_sp': '\\n\\nWhat is Direct Deposit? \\n',\n",
       "   'title': 'What is Direct Deposit?',\n",
       "   'parent_titles': '[]',\n",
       "   'id_sec': 't_2',\n",
       "   'start_sec': 463,\n",
       "   'text_sec': '\\n\\nWhat is Direct Deposit? \\n',\n",
       "   'end_sec': 490},\n",
       "  {'id_sp': '7',\n",
       "   'tag': 'u',\n",
       "   'start_sp': 490,\n",
       "   'end_sp': 556,\n",
       "   'text_sp': 'Direct deposit is a simple, safe, and secure way to get benefits. ',\n",
       "   'title': 'What is Direct Deposit?',\n",
       "   'parent_titles': '[]',\n",
       "   'id_sec': '2',\n",
       "   'start_sec': 490,\n",
       "   'text_sec': 'Direct deposit is a simple, safe, and secure way to get benefits. If you need us to send your payment to abank or credit union account , have all of the following information ready when you apply. Social Security number Bank routing transit number Account type checking or savings Account number ',\n",
       "   'end_sec': 786},\n",
       "  {'id_sp': '8',\n",
       "   'tag': 'u',\n",
       "   'start_sp': 556,\n",
       "   'end_sp': 627,\n",
       "   'text_sp': 'If you need us to send your payment to abank or credit union account , ',\n",
       "   'title': 'What is Direct Deposit?',\n",
       "   'parent_titles': '[]',\n",
       "   'id_sec': '2',\n",
       "   'start_sec': 490,\n",
       "   'text_sec': 'Direct deposit is a simple, safe, and secure way to get benefits. If you need us to send your payment to abank or credit union account , have all of the following information ready when you apply. Social Security number Bank routing transit number Account type checking or savings Account number ',\n",
       "   'end_sec': 786},\n",
       "  {'id_sp': '9',\n",
       "   'tag': 'u',\n",
       "   'start_sp': 627,\n",
       "   'end_sp': 687,\n",
       "   'text_sp': 'have all of the following information ready when you apply. ',\n",
       "   'title': 'What is Direct Deposit?',\n",
       "   'parent_titles': '[]',\n",
       "   'id_sec': '2',\n",
       "   'start_sec': 490,\n",
       "   'text_sec': 'Direct deposit is a simple, safe, and secure way to get benefits. If you need us to send your payment to abank or credit union account , have all of the following information ready when you apply. Social Security number Bank routing transit number Account type checking or savings Account number ',\n",
       "   'end_sec': 786},\n",
       "  {'id_sp': '10',\n",
       "   'tag': 'u',\n",
       "   'start_sp': 687,\n",
       "   'end_sp': 710,\n",
       "   'text_sp': 'Social Security number ',\n",
       "   'title': 'What is Direct Deposit?',\n",
       "   'parent_titles': '[]',\n",
       "   'id_sec': '2',\n",
       "   'start_sec': 490,\n",
       "   'text_sec': 'Direct deposit is a simple, safe, and secure way to get benefits. If you need us to send your payment to abank or credit union account , have all of the following information ready when you apply. Social Security number Bank routing transit number Account type checking or savings Account number ',\n",
       "   'end_sec': 786},\n",
       "  {'id_sp': '11',\n",
       "   'tag': 'u',\n",
       "   'start_sp': 710,\n",
       "   'end_sp': 738,\n",
       "   'text_sp': 'Bank routing transit number ',\n",
       "   'title': 'What is Direct Deposit?',\n",
       "   'parent_titles': '[]',\n",
       "   'id_sec': '2',\n",
       "   'start_sec': 490,\n",
       "   'text_sec': 'Direct deposit is a simple, safe, and secure way to get benefits. If you need us to send your payment to abank or credit union account , have all of the following information ready when you apply. Social Security number Bank routing transit number Account type checking or savings Account number ',\n",
       "   'end_sec': 786},\n",
       "  {'id_sp': '12',\n",
       "   'tag': 'u',\n",
       "   'start_sp': 738,\n",
       "   'end_sp': 771,\n",
       "   'text_sp': 'Account type checking or savings ',\n",
       "   'title': 'What is Direct Deposit?',\n",
       "   'parent_titles': '[]',\n",
       "   'id_sec': '2',\n",
       "   'start_sec': 490,\n",
       "   'text_sec': 'Direct deposit is a simple, safe, and secure way to get benefits. If you need us to send your payment to abank or credit union account , have all of the following information ready when you apply. Social Security number Bank routing transit number Account type checking or savings Account number ',\n",
       "   'end_sec': 786},\n",
       "  {'id_sp': '13',\n",
       "   'tag': 'u',\n",
       "   'start_sp': 771,\n",
       "   'end_sp': 786,\n",
       "   'text_sp': 'Account number ',\n",
       "   'title': 'What is Direct Deposit?',\n",
       "   'parent_titles': '[]',\n",
       "   'id_sec': '2',\n",
       "   'start_sec': 490,\n",
       "   'text_sec': 'Direct deposit is a simple, safe, and secure way to get benefits. If you need us to send your payment to abank or credit union account , have all of the following information ready when you apply. Social Security number Bank routing transit number Account type checking or savings Account number ',\n",
       "   'end_sec': 786},\n",
       "  {'id_sp': '14',\n",
       "   'tag': 'u',\n",
       "   'start_sp': 786,\n",
       "   'end_sp': 851,\n",
       "   'text_sp': 'How to Set Up or Change Direct Deposit of Benefit Payment Online ',\n",
       "   'title': 'What is Direct Deposit?',\n",
       "   'parent_titles': '[]',\n",
       "   'id_sec': '3',\n",
       "   'start_sec': 786,\n",
       "   'text_sec': 'How to Set Up or Change Direct Deposit of Benefit Payment Online Log in to your account. Sign in and Select the blue Benefits & Payment Details link on the right side of the screen. Scroll down and select the Update Direct Deposit button, and choose if you are the owner or co - ownerof the bank account. Enter your bank account information and select Next. Review and verify your banking information and select Submit then select Done. You can also decide when your change will take effect, by simply using the My Profile tab within mySocial Security. ',\n",
       "   'end_sec': 1339},\n",
       "  {'id_sp': '15',\n",
       "   'tag': 'u',\n",
       "   'start_sp': 851,\n",
       "   'end_sp': 875,\n",
       "   'text_sp': 'Log in to your account. ',\n",
       "   'title': 'What is Direct Deposit?',\n",
       "   'parent_titles': '[]',\n",
       "   'id_sec': '3',\n",
       "   'start_sec': 786,\n",
       "   'text_sec': 'How to Set Up or Change Direct Deposit of Benefit Payment Online Log in to your account. Sign in and Select the blue Benefits & Payment Details link on the right side of the screen. Scroll down and select the Update Direct Deposit button, and choose if you are the owner or co - ownerof the bank account. Enter your bank account information and select Next. Review and verify your banking information and select Submit then select Done. You can also decide when your change will take effect, by simply using the My Profile tab within mySocial Security. ',\n",
       "   'end_sec': 1339},\n",
       "  {'id_sp': '16',\n",
       "   'tag': 'u',\n",
       "   'start_sp': 875,\n",
       "   'end_sp': 968,\n",
       "   'text_sp': 'Sign in and Select the blue Benefits & Payment Details link on the right side of the screen. ',\n",
       "   'title': 'What is Direct Deposit?',\n",
       "   'parent_titles': '[]',\n",
       "   'id_sec': '3',\n",
       "   'start_sec': 786,\n",
       "   'text_sec': 'How to Set Up or Change Direct Deposit of Benefit Payment Online Log in to your account. Sign in and Select the blue Benefits & Payment Details link on the right side of the screen. Scroll down and select the Update Direct Deposit button, and choose if you are the owner or co - ownerof the bank account. Enter your bank account information and select Next. Review and verify your banking information and select Submit then select Done. You can also decide when your change will take effect, by simply using the My Profile tab within mySocial Security. ',\n",
       "   'end_sec': 1339},\n",
       "  {'id_sp': '17',\n",
       "   'tag': 'u',\n",
       "   'start_sp': 968,\n",
       "   'end_sp': 1091,\n",
       "   'text_sp': 'Scroll down and select the Update Direct Deposit button, and choose if you are the owner or co - ownerof the bank account. ',\n",
       "   'title': 'What is Direct Deposit?',\n",
       "   'parent_titles': '[]',\n",
       "   'id_sec': '3',\n",
       "   'start_sec': 786,\n",
       "   'text_sec': 'How to Set Up or Change Direct Deposit of Benefit Payment Online Log in to your account. Sign in and Select the blue Benefits & Payment Details link on the right side of the screen. Scroll down and select the Update Direct Deposit button, and choose if you are the owner or co - ownerof the bank account. Enter your bank account information and select Next. Review and verify your banking information and select Submit then select Done. You can also decide when your change will take effect, by simply using the My Profile tab within mySocial Security. ',\n",
       "   'end_sec': 1339},\n",
       "  {'id_sp': '18',\n",
       "   'tag': 'u',\n",
       "   'start_sp': 1091,\n",
       "   'end_sp': 1144,\n",
       "   'text_sp': 'Enter your bank account information and select Next. ',\n",
       "   'title': 'What is Direct Deposit?',\n",
       "   'parent_titles': '[]',\n",
       "   'id_sec': '3',\n",
       "   'start_sec': 786,\n",
       "   'text_sec': 'How to Set Up or Change Direct Deposit of Benefit Payment Online Log in to your account. Sign in and Select the blue Benefits & Payment Details link on the right side of the screen. Scroll down and select the Update Direct Deposit button, and choose if you are the owner or co - ownerof the bank account. Enter your bank account information and select Next. Review and verify your banking information and select Submit then select Done. You can also decide when your change will take effect, by simply using the My Profile tab within mySocial Security. ',\n",
       "   'end_sec': 1339},\n",
       "  {'id_sp': '19',\n",
       "   'tag': 'u',\n",
       "   'start_sp': 1144,\n",
       "   'end_sp': 1223,\n",
       "   'text_sp': 'Review and verify your banking information and select Submit then select Done. ',\n",
       "   'title': 'What is Direct Deposit?',\n",
       "   'parent_titles': '[]',\n",
       "   'id_sec': '3',\n",
       "   'start_sec': 786,\n",
       "   'text_sec': 'How to Set Up or Change Direct Deposit of Benefit Payment Online Log in to your account. Sign in and Select the blue Benefits & Payment Details link on the right side of the screen. Scroll down and select the Update Direct Deposit button, and choose if you are the owner or co - ownerof the bank account. Enter your bank account information and select Next. Review and verify your banking information and select Submit then select Done. You can also decide when your change will take effect, by simply using the My Profile tab within mySocial Security. ',\n",
       "   'end_sec': 1339},\n",
       "  {'id_sp': '20',\n",
       "   'tag': 'u',\n",
       "   'start_sp': 1223,\n",
       "   'end_sp': 1339,\n",
       "   'text_sp': 'You can also decide when your change will take effect, by simply using the My Profile tab within mySocial Security. ',\n",
       "   'title': 'What is Direct Deposit?',\n",
       "   'parent_titles': '[]',\n",
       "   'id_sec': '3',\n",
       "   'start_sec': 786,\n",
       "   'text_sec': 'How to Set Up or Change Direct Deposit of Benefit Payment Online Log in to your account. Sign in and Select the blue Benefits & Payment Details link on the right side of the screen. Scroll down and select the Update Direct Deposit button, and choose if you are the owner or co - ownerof the bank account. Enter your bank account information and select Next. Review and verify your banking information and select Submit then select Done. You can also decide when your change will take effect, by simply using the My Profile tab within mySocial Security. ',\n",
       "   'end_sec': 1339},\n",
       "  {'id_sp': '21',\n",
       "   'tag': 'u',\n",
       "   'start_sp': 1339,\n",
       "   'end_sp': 1380,\n",
       "   'text_sp': \"Don't have a my Social Security Account? \",\n",
       "   'title': 'What is Direct Deposit?',\n",
       "   'parent_titles': '[]',\n",
       "   'id_sec': '4',\n",
       "   'start_sec': 1339,\n",
       "   'text_sec': \"Don't have a my Social Security Account? \",\n",
       "   'end_sec': 1380},\n",
       "  {'id_sp': '22',\n",
       "   'tag': 'u',\n",
       "   'start_sp': 1380,\n",
       "   'end_sp': 1549,\n",
       "   'text_sp': 'Creating a free my Social Security account takes less than 10 minutes, lets you set up or change your direct deposit and gives you access to many other online services. ',\n",
       "   'title': 'What is Direct Deposit?',\n",
       "   'parent_titles': '[]',\n",
       "   'id_sec': '5',\n",
       "   'start_sec': 1380,\n",
       "   'text_sec': 'Creating a free my Social Security account takes less than 10 minutes, lets you set up or change your direct deposit and gives you access to many other online services. ',\n",
       "   'end_sec': 1549},\n",
       "  {'id_sp': '23',\n",
       "   'tag': 'h3',\n",
       "   'start_sp': 1549,\n",
       "   'end_sp': 1599,\n",
       "   'text_sp': '\\n\\nAdditional information related to this service \\n',\n",
       "   'title': 'Additional information related to this service',\n",
       "   'parent_titles': '[]',\n",
       "   'id_sec': 't_5',\n",
       "   'start_sec': 1549,\n",
       "   'text_sec': '\\n\\nAdditional information related to this service \\n',\n",
       "   'end_sec': 1599},\n",
       "  {'id_sp': '24',\n",
       "   'tag': 'u',\n",
       "   'start_sp': 1599,\n",
       "   'end_sp': 1622,\n",
       "   'text_sp': 'As of March 1 , 2013 , ',\n",
       "   'title': 'Additional information related to this service',\n",
       "   'parent_titles': '[]',\n",
       "   'id_sec': '6',\n",
       "   'start_sec': 1599,\n",
       "   'text_sec': 'As of March 1 , 2013 , you are required to receive your payments electronically. If you applied for benefitsbefore that date and did not sign up for electronic payments at that time , we strongly urge you to do sonow. For more information regarding switching to an electronic payment if you don t have a bank account , visit Treasury s Go Direct website or call the helpline at 1 - 800 - 333 - 1795. ',\n",
       "   'end_sec': 1999},\n",
       "  {'id_sp': '25',\n",
       "   'tag': 'u',\n",
       "   'start_sp': 1622,\n",
       "   'end_sp': 1680,\n",
       "   'text_sp': 'you are required to receive your payments electronically. ',\n",
       "   'title': 'Additional information related to this service',\n",
       "   'parent_titles': '[]',\n",
       "   'id_sec': '6',\n",
       "   'start_sec': 1599,\n",
       "   'text_sec': 'As of March 1 , 2013 , you are required to receive your payments electronically. If you applied for benefitsbefore that date and did not sign up for electronic payments at that time , we strongly urge you to do sonow. For more information regarding switching to an electronic payment if you don t have a bank account , visit Treasury s Go Direct website or call the helpline at 1 - 800 - 333 - 1795. ',\n",
       "   'end_sec': 1999},\n",
       "  {'id_sp': '26',\n",
       "   'tag': 'u',\n",
       "   'start_sp': 1680,\n",
       "   'end_sp': 1783,\n",
       "   'text_sp': 'If you applied for benefitsbefore that date and did not sign up for electronic payments at that time , ',\n",
       "   'title': 'Additional information related to this service',\n",
       "   'parent_titles': '[]',\n",
       "   'id_sec': '6',\n",
       "   'start_sec': 1599,\n",
       "   'text_sec': 'As of March 1 , 2013 , you are required to receive your payments electronically. If you applied for benefitsbefore that date and did not sign up for electronic payments at that time , we strongly urge you to do sonow. For more information regarding switching to an electronic payment if you don t have a bank account , visit Treasury s Go Direct website or call the helpline at 1 - 800 - 333 - 1795. ',\n",
       "   'end_sec': 1999},\n",
       "  {'id_sp': '27',\n",
       "   'tag': 'u',\n",
       "   'start_sp': 1783,\n",
       "   'end_sp': 1817,\n",
       "   'text_sp': 'we strongly urge you to do sonow. ',\n",
       "   'title': 'Additional information related to this service',\n",
       "   'parent_titles': '[]',\n",
       "   'id_sec': '6',\n",
       "   'start_sec': 1599,\n",
       "   'text_sec': 'As of March 1 , 2013 , you are required to receive your payments electronically. If you applied for benefitsbefore that date and did not sign up for electronic payments at that time , we strongly urge you to do sonow. For more information regarding switching to an electronic payment if you don t have a bank account , visit Treasury s Go Direct website or call the helpline at 1 - 800 - 333 - 1795. ',\n",
       "   'end_sec': 1999},\n",
       "  {'id_sp': '28',\n",
       "   'tag': 'u',\n",
       "   'start_sp': 1817,\n",
       "   'end_sp': 1918,\n",
       "   'text_sp': 'For more information regarding switching to an electronic payment if you don t have a bank account , ',\n",
       "   'title': 'Additional information related to this service',\n",
       "   'parent_titles': '[]',\n",
       "   'id_sec': '6',\n",
       "   'start_sec': 1599,\n",
       "   'text_sec': 'As of March 1 , 2013 , you are required to receive your payments electronically. If you applied for benefitsbefore that date and did not sign up for electronic payments at that time , we strongly urge you to do sonow. For more information regarding switching to an electronic payment if you don t have a bank account , visit Treasury s Go Direct website or call the helpline at 1 - 800 - 333 - 1795. ',\n",
       "   'end_sec': 1999},\n",
       "  {'id_sp': '29',\n",
       "   'tag': 'u',\n",
       "   'start_sp': 1918,\n",
       "   'end_sp': 1999,\n",
       "   'text_sp': 'visit Treasury s Go Direct website or call the helpline at 1 - 800 - 333 - 1795. ',\n",
       "   'title': 'Additional information related to this service',\n",
       "   'parent_titles': '[]',\n",
       "   'id_sec': '6',\n",
       "   'start_sec': 1599,\n",
       "   'text_sec': 'As of March 1 , 2013 , you are required to receive your payments electronically. If you applied for benefitsbefore that date and did not sign up for electronic payments at that time , we strongly urge you to do sonow. For more information regarding switching to an electronic payment if you don t have a bank account , visit Treasury s Go Direct website or call the helpline at 1 - 800 - 333 - 1795. ',\n",
       "   'end_sec': 1999},\n",
       "  {'id_sp': '30',\n",
       "   'tag': 'h3',\n",
       "   'start_sp': 1999,\n",
       "   'end_sp': 2024,\n",
       "   'text_sp': '\\n\\nStill have questions? \\n',\n",
       "   'title': 'Still have questions?',\n",
       "   'parent_titles': '[]',\n",
       "   'id_sec': 't_7',\n",
       "   'start_sec': 1999,\n",
       "   'text_sec': '\\n\\nStill have questions? \\n',\n",
       "   'end_sec': 2024},\n",
       "  {'id_sp': '31',\n",
       "   'tag': 'u',\n",
       "   'start_sp': 2024,\n",
       "   'end_sp': 2121,\n",
       "   'text_sp': 'If you have questions or need help understanding how to set up or change direct deposit online , ',\n",
       "   'title': 'Still have questions?',\n",
       "   'parent_titles': '[]',\n",
       "   'id_sec': '7',\n",
       "   'start_sec': 2024,\n",
       "   'text_sec': 'If you have questions or need help understanding how to set up or change direct deposit online , call ourtoll - free number at 1 - 800 - 772 - 1213 or visit your Social Security office. If you are deaf or hard of hearing , call our toll - free TTY number , 1 - 800 - 325 - 0778, between7 a.m. and 7 p.m. Monday through Friday. ',\n",
       "   'end_sec': 2351},\n",
       "  {'id_sp': '32',\n",
       "   'tag': 'u',\n",
       "   'start_sp': 2121,\n",
       "   'end_sp': 2210,\n",
       "   'text_sp': 'call ourtoll - free number at 1 - 800 - 772 - 1213 or visit your Social Security office. ',\n",
       "   'title': 'Still have questions?',\n",
       "   'parent_titles': '[]',\n",
       "   'id_sec': '7',\n",
       "   'start_sec': 2024,\n",
       "   'text_sec': 'If you have questions or need help understanding how to set up or change direct deposit online , call ourtoll - free number at 1 - 800 - 772 - 1213 or visit your Social Security office. If you are deaf or hard of hearing , call our toll - free TTY number , 1 - 800 - 325 - 0778, between7 a.m. and 7 p.m. Monday through Friday. ',\n",
       "   'end_sec': 2351},\n",
       "  {'id_sp': '33',\n",
       "   'tag': 'u',\n",
       "   'start_sp': 2210,\n",
       "   'end_sp': 2247,\n",
       "   'text_sp': 'If you are deaf or hard of hearing , ',\n",
       "   'title': 'Still have questions?',\n",
       "   'parent_titles': '[]',\n",
       "   'id_sec': '7',\n",
       "   'start_sec': 2024,\n",
       "   'text_sec': 'If you have questions or need help understanding how to set up or change direct deposit online , call ourtoll - free number at 1 - 800 - 772 - 1213 or visit your Social Security office. If you are deaf or hard of hearing , call our toll - free TTY number , 1 - 800 - 325 - 0778, between7 a.m. and 7 p.m. Monday through Friday. ',\n",
       "   'end_sec': 2351},\n",
       "  {'id_sp': '34',\n",
       "   'tag': 'u',\n",
       "   'start_sp': 2247,\n",
       "   'end_sp': 2351,\n",
       "   'text_sp': 'call our toll - free TTY number , 1 - 800 - 325 - 0778, between7 a.m. and 7 p.m. Monday through Friday. ',\n",
       "   'title': 'Still have questions?',\n",
       "   'parent_titles': '[]',\n",
       "   'id_sec': '7',\n",
       "   'start_sec': 2024,\n",
       "   'text_sec': 'If you have questions or need help understanding how to set up or change direct deposit online , call ourtoll - free number at 1 - 800 - 772 - 1213 or visit your Social Security office. If you are deaf or hard of hearing , call our toll - free TTY number , 1 - 800 - 325 - 0778, between7 a.m. and 7 p.m. Monday through Friday. ',\n",
       "   'end_sec': 2351}],\n",
       " 'doc_html_ts': '<article><div><section><div><h3 sent_id=\"1\" text_id=\"1\">Set Up or Change Your Direct Deposit of Benefit Payment </h3><div tag_id=\"1\"><div tag_id=\"1\"><u sent_id=\"5\" tag_id=\"1\"><u sent_id=\"5\" tag_id=\"1\" text_id=\"2\">Do you want to set up or change the direct deposit of your benefit payment ?</u></u><u sent_id=\"6\" tag_id=\"1\"><u sent_id=\"6\" tag_id=\"1\" text_id=\"3\">We are constantly expandingand improving our online services , including the ability to set up or change your direct depositinformation .</u></u><u sent_id=\"7\" tag_id=\"1\"><u sent_id=\"7\" tag_id=\"1\" text_id=\"4\">If you already receive Social Security or Supplemental Security Income SSI benefitsand</u><u sent_id=\"7\" tag_id=\"1\" text_id=\"5\">you have a bank account , simply log in to or create your personal and secure my Social Security account .</u></u></div></div><div><a>Sign in</a><a>Create your account</a></div></div></section><section><h3 sent_id=\"8\" text_id=\"6\">What is Direct Deposit?</h3><div tag_id=\"2\"><u sent_id=\"9\" tag_id=\"2\"><u sent_id=\"9\" tag_id=\"2\" text_id=\"7\">Direct deposit is a simple , safe , and secure way to get benefits .</u></u><u sent_id=\"10\" tag_id=\"2\"><u sent_id=\"10\" tag_id=\"2\" text_id=\"8\">If you need us to send your payment to abank or credit union account ,</u><u sent_id=\"10\" tag_id=\"2\" text_id=\"9\">have all of the following information ready when you apply .</u></u></div><ul class=\"browser-default\" tag_id=\"2\"><li tag_id=\"2\"><u sent_id=\"11\" tag_id=\"2\"><u sent_id=\"11\" tag_id=\"2\" text_id=\"10\">Social Security number</u></u></li><li tag_id=\"2\"><u sent_id=\"12\" tag_id=\"2\"><u sent_id=\"12\" tag_id=\"2\" text_id=\"11\">Bank routing transit number</u></u></li><li tag_id=\"2\"><u sent_id=\"13\" tag_id=\"2\"><u sent_id=\"13\" tag_id=\"2\" text_id=\"12\">Account type checking or savings</u></u></li><li tag_id=\"2\"><u sent_id=\"14\" tag_id=\"2\"><u sent_id=\"14\" tag_id=\"2\" text_id=\"13\">Account number</u></u></li></ul></section><section><div><div><div tag_id=\"3\"><u sent_id=\"15\" tag_id=\"3\"><u sent_id=\"15\" tag_id=\"3\" text_id=\"14\">How to Set Up or Change Direct Deposit of Benefit Payment Online</u></u></div><ol class=\"browser-default\" tag_id=\"3\"><li tag_id=\"3\"><div tag_id=\"3\"><u sent_id=\"23\" tag_id=\"3\"><u sent_id=\"23\" tag_id=\"3\" text_id=\"15\">Log in to your account .</u></u></div><li tag_id=\"3\"><u sent_id=\"24\" tag_id=\"3\"><u sent_id=\"24\" tag_id=\"3\" text_id=\"16\">Sign in and Select the blue Benefits &amp; Payment Details link on the right side of the screen .</u></u></li><li tag_id=\"3\"><u sent_id=\"25\" tag_id=\"3\"><u sent_id=\"25\" tag_id=\"3\" text_id=\"17\">Scroll down and select the Update Direct Deposit button , and choose if you are the owner or co - ownerof the bank account .</u></u></li><li tag_id=\"3\"><u sent_id=\"26\" tag_id=\"3\"><u sent_id=\"26\" tag_id=\"3\" text_id=\"18\">Enter your bank account information and select Next .</u></u></li><li tag_id=\"3\"><u sent_id=\"27\" tag_id=\"3\"><u sent_id=\"27\" tag_id=\"3\" text_id=\"19\">Review and verify your banking information and select Submit then select Done .</u></u></li><li tag_id=\"3\"><div tag_id=\"3\"><u sent_id=\"29\" tag_id=\"3\"><u sent_id=\"29\" tag_id=\"3\" text_id=\"20\">You can also decide when your change will take effect , by simply using the My Profile tab within mySocial Security .</u></u></div></li></li></ol></div><div><div tag_id=\"4\"><div tag_id=\"4\"><u sent_id=\"31\" tag_id=\"4\"><u sent_id=\"31\" tag_id=\"4\" text_id=\"21\">Do n\\'t have a my Social Security Account ?</u></u></div></div><div tag_id=\"5\"><div tag_id=\"5\"><u sent_id=\"33\" tag_id=\"5\"><u sent_id=\"33\" tag_id=\"5\" text_id=\"22\">Creating a free my Social Security account takes less than 10 minutes , lets you set up or change your direct deposit and gives you access to many other online services .</u></u></div></div><div><a>Learn More</a><a>Sign Up</a></div></div></div></section><section><h3 sent_id=\"34\" text_id=\"23\">Additional information related to this service</h3><div tag_id=\"6\"><u sent_id=\"35\" tag_id=\"6\"><u sent_id=\"35\" tag_id=\"6\" text_id=\"24\">As of March 1 , 2013 ,</u><u sent_id=\"35\" tag_id=\"6\" text_id=\"25\">you are required to receive your payments electronically .</u></u><u sent_id=\"36\" tag_id=\"6\"><u sent_id=\"36\" tag_id=\"6\" text_id=\"26\">If you applied for benefitsbefore that date and did not sign up for electronic payments at that time ,</u><u sent_id=\"36\" tag_id=\"6\" text_id=\"27\">we strongly urge you to do sonow .</u></u><u sent_id=\"37\" tag_id=\"6\"><u sent_id=\"37\" tag_id=\"6\" text_id=\"28\">For more information regarding switching to an electronic payment if you don t have a bank account ,</u><u sent_id=\"37\" tag_id=\"6\" text_id=\"29\">visit Treasury s Go Direct website or call the helpline at 1 - 800 - 333 - 1795 .</u></u></div></section><section><h3 sent_id=\"38\" text_id=\"30\">Still have questions?</h3><div tag_id=\"7\"><u sent_id=\"39\" tag_id=\"7\"><u sent_id=\"39\" tag_id=\"7\" text_id=\"31\">If you have questions or need help understanding how to set up or change direct deposit online ,</u><u sent_id=\"39\" tag_id=\"7\" text_id=\"32\">call ourtoll - free number at 1 - 800 - 772 - 1213 or visit your Social Security office .</u></u><u sent_id=\"40\" tag_id=\"7\"><u sent_id=\"40\" tag_id=\"7\" text_id=\"33\">If you are deaf or hard of hearing ,</u><u sent_id=\"40\" tag_id=\"7\" text_id=\"34\">call our toll - free TTY number , 1 - 800 - 325 - 0778 , between7 a.m. and 7 p.m. Monday through Friday .</u></u></div></section></div></article>',\n",
       " 'doc_html_raw': '<article>\\n\\n<div>\\n\\n<section>\\n<div>\\n<h3>Set Up or Change Your Direct Deposit of Benefit Payment </h3>\\n<p>Do you want to set up or change the direct deposit of your benefit payment? We are constantly expanding\\n              and improving our online services, including the ability to set up or change your direct deposit\\n              information. If you already receive Social Security or Supplemental Security Income (SSI) benefits\\n              and you have a bank account, simply log in to or create your personal and secure <a><span>my</span> <span>Social Security</span> </a> account.</p>\\n<div><a>Sign in</a><a>Create your account</a></div>\\n</div>\\n\\n</section>\\n\\n<section>\\n<h3>What is Direct Deposit?</h3>\\n<p>Direct deposit is a simple, safe, and secure way to get benefits. If you need us to send your payment to a\\n            bank or credit union account, have all of the following information ready when you apply. </p>\\n<ul class=\"browser-default\">\\n<li>Social Security number </li>\\n<li>Bank routing transit number </li>\\n<li>Account type (checking or savings)</li>\\n<li>Account number</li>\\n</ul>\\n</section>\\n\\n<section>\\n<div>\\n<div>\\n<p>How to Set Up or Change Direct Deposit of Benefit Payment Online </p>\\n<ol class=\"browser-default\">\\n<li>Log in to your account.\\n                <li>Sign in and  Select the blue Benefits &amp; Payment Details link on the right side of the screen. </li>\\n<li>Scroll down and select the Update Direct Deposit button, and choose if you are the owner or co-owner\\n                  of the bank account. </li>\\n<li>Enter your bank account information and select Next.</li>\\n<li>Review and verify your banking information and select Submit  then select Done.</li>\\n<li>You can also decide when your change will take effect, by simply using the My Profile tab within <span>my</span>\\n<span>Social Security</span>.</li>\\n</li></ol>\\n\\n</div>\\n<div>\\n<p>Don\\'t have a <span>my</span> <span>Social Security</span> Account?</p>\\n<p>Creating a free <span>my</span> <span>Social Security</span> account takes less than 10 minutes, lets you set up or change your direct deposit and gives you access to many other <a>online services</a>.</p>\\n\\n<div><a>Learn More</a><a>Sign Up</a></div>\\n</div>\\n</div>\\n</section>\\n\\n<section>\\n<h3>Additional information related to this service</h3>\\n<p>As of March 1, 2013, you are required to receive your payments electronically. If you applied for benefits\\n            before that date and did not sign up for electronic payments at that time, we strongly urge you to do so\\n            now. For more information regarding switching to an electronic payment if you don t have a bank account,\\n            visit Treasury s <a>Go Direct website</a> or call the helpline at 1-800-333-1795. </p>\\n</section>\\n<section>\\n<h3>Still have questions?</h3>\\n<p>If you have questions or need help understanding how to set up or change direct deposit online, call our\\n            toll-free number at 1-800-772-1213 or visit your Social Security office. If you are deaf or hard of hearing, call our toll-free TTY number, 1-800-325-0778, between 7 a.m. and 7 p.m. Monday through Friday. </p>\\n</section>\\n</div>\\n</article>'}"
      ]
     },
     "execution_count": 164,
     "metadata": {},
     "output_type": "execute_result"
    }
   ],
   "source": [
    "document_dataset[54]"
   ]
  },
  {
   "cell_type": "code",
   "execution_count": 6,
   "id": "a4385243",
   "metadata": {},
   "outputs": [
    {
     "name": "stdout",
     "output_type": "stream",
     "text": [
      "Time elapsed: 0.23252201080322266\n"
     ]
    },
    {
     "data": {
      "text/plain": [
       "'you must report a change of address to DMV within ten days of moving. That is the case for the address associated with your license, as well as all the addresses associated with each registered vehicle, which may differ. '"
      ]
     },
     "execution_count": 6,
     "metadata": {},
     "output_type": "execute_result"
    }
   ],
   "source": [
    "search_domain = 'dmv'\n",
    "search_doc_id = 'Top 5 DMV Mistakes and How to Avoid Them#3_0'\n",
    "search_id_sp = ['6', '7']\n",
    "\n",
    "def text_from_spans(search_domain, search_doc_id, search_id_sp, document_dataset):\n",
    "    start = time.time()\n",
    "    total_answer = ''\n",
    "    for doc in document_dataset:\n",
    "        if doc['domain'] == search_domain and doc['doc_id'] == search_doc_id:\n",
    "            for span in doc['spans']:\n",
    "                if span['id_sp'] in search_id_sp:\n",
    "                    total_answer+=span['text_sp']\n",
    "            break\n",
    "    print(f\"Time elapsed: {time.time() - start}\")\n",
    "    return total_answer\n",
    "\n",
    "text_from_spans(search_domain, search_doc_id, search_id_sp, document_dataset)"
   ]
  },
  {
   "cell_type": "code",
   "execution_count": 165,
   "id": "41ca09a5",
   "metadata": {},
   "outputs": [
    {
     "name": "stderr",
     "output_type": "stream",
     "text": [
      "No model was supplied, defaulted to distilbert-base-cased-distilled-squad (https://huggingface.co/distilbert-base-cased-distilled-squad)\n"
     ]
    }
   ],
   "source": [
    "question_answerer = pipeline(\"question-answering\")"
   ]
  },
  {
   "cell_type": "code",
   "execution_count": 166,
   "id": "8f1d52ec",
   "metadata": {},
   "outputs": [],
   "source": [
    "context = \"By statute , you must report a change of address to DMV within ten days of moving. That is the case for the address associated with your license, as well as all the addresses associated with each registered vehicle, which may differ.\""
   ]
  },
  {
   "cell_type": "code",
   "execution_count": 188,
   "id": "096df6c1",
   "metadata": {},
   "outputs": [
    {
     "name": "stdout",
     "output_type": "stream",
     "text": [
      "{'score': 0.08009324222803116, 'start': 137, 'end': 144, 'answer': 'license'}\n"
     ]
    }
   ],
   "source": [
    "result = question_answerer(question=\"Hello, I forgot o update my address, can you help me with that?\", context=context)\n",
    "print(result)"
   ]
  },
  {
   "cell_type": "markdown",
   "id": "27d09bea",
   "metadata": {},
   "source": [
    "## Creating the dataset"
   ]
  },
  {
   "cell_type": "markdown",
   "id": "26b41ec8",
   "metadata": {},
   "source": [
    "Steps:\n",
    "- [X] Sliding windows from the Document\n",
    "- [ ] Extract user utterance\n",
    "- [ ] Extract Dialogue history"
   ]
  },
  {
   "cell_type": "markdown",
   "id": "4e67840f",
   "metadata": {},
   "source": [
    "### Sliding windows from the Document"
   ]
  },
  {
   "cell_type": "code",
   "execution_count": 171,
   "id": "ec52a056",
   "metadata": {},
   "outputs": [
    {
     "name": "stderr",
     "output_type": "stream",
     "text": [
      "0it [00:00, ?it/s]\n"
     ]
    },
    {
     "ename": "KeyError",
     "evalue": "'start_sp'",
     "output_type": "error",
     "traceback": [
      "\u001b[0;31m---------------------------------------------------------------------------\u001b[0m",
      "\u001b[0;31mKeyError\u001b[0m                                  Traceback (most recent call last)",
      "\u001b[0;32m/var/folders/yl/kyjv_cpj1j70_ry0q6699fbh0000gq/T/ipykernel_54659/2623239942.py\u001b[0m in \u001b[0;36m<module>\u001b[0;34m\u001b[0m\n\u001b[1;32m     38\u001b[0m             \u001b[0;32mfor\u001b[0m \u001b[0mref\u001b[0m \u001b[0;32min\u001b[0m \u001b[0mreferences\u001b[0m\u001b[0;34m:\u001b[0m\u001b[0;34m\u001b[0m\u001b[0;34m\u001b[0m\u001b[0m\n\u001b[1;32m     39\u001b[0m                 \u001b[0mref_sp_id\u001b[0m\u001b[0;34m.\u001b[0m\u001b[0mappend\u001b[0m\u001b[0;34m(\u001b[0m\u001b[0mref\u001b[0m\u001b[0;34m[\u001b[0m\u001b[0;34m'sp_id'\u001b[0m\u001b[0;34m]\u001b[0m\u001b[0;34m)\u001b[0m\u001b[0;34m\u001b[0m\u001b[0;34m\u001b[0m\u001b[0m\n\u001b[0;32m---> 40\u001b[0;31m                 \u001b[0mref_start_pos_list\u001b[0m\u001b[0;34m.\u001b[0m\u001b[0mappend\u001b[0m\u001b[0;34m(\u001b[0m\u001b[0mref\u001b[0m\u001b[0;34m[\u001b[0m\u001b[0;34m'start_sp'\u001b[0m\u001b[0;34m]\u001b[0m\u001b[0;34m)\u001b[0m\u001b[0;34m\u001b[0m\u001b[0;34m\u001b[0m\u001b[0m\n\u001b[0m\u001b[1;32m     41\u001b[0m                 \u001b[0mref_end_pos_list\u001b[0m\u001b[0;34m.\u001b[0m\u001b[0mappend\u001b[0m\u001b[0;34m(\u001b[0m\u001b[0mref\u001b[0m\u001b[0;34m[\u001b[0m\u001b[0;34m'end_sp'\u001b[0m\u001b[0;34m]\u001b[0m\u001b[0;34m)\u001b[0m\u001b[0;34m\u001b[0m\u001b[0;34m\u001b[0m\u001b[0m\n\u001b[1;32m     42\u001b[0m             \u001b[0mstart_sp_list\u001b[0m\u001b[0;34m.\u001b[0m\u001b[0mappend\u001b[0m\u001b[0;34m(\u001b[0m\u001b[0mnp\u001b[0m\u001b[0;34m.\u001b[0m\u001b[0margmin\u001b[0m\u001b[0;34m(\u001b[0m\u001b[0mnp\u001b[0m\u001b[0;34m.\u001b[0m\u001b[0marray\u001b[0m\u001b[0;34m(\u001b[0m\u001b[0mref_start_pos_list\u001b[0m\u001b[0;34m)\u001b[0m\u001b[0;34m)\u001b[0m\u001b[0;34m)\u001b[0m\u001b[0;34m\u001b[0m\u001b[0;34m\u001b[0m\u001b[0m\n",
      "\u001b[0;31mKeyError\u001b[0m: 'start_sp'"
     ]
    }
   ],
   "source": [
    "train_dict = dict()\n",
    "train_dict['train_document'] = []\n",
    "train_dict['train_id_sp'] = []\n",
    "train_dict['train_user_utterance'] = []\n",
    "train_dict['train_doc_domain'] = []\n",
    "train_dict['train_doc_id'] = []\n",
    "train_dict['train_text_sp'] = []\n",
    "train_dict['train_dial_id_turn_id'] = []     # necessary for evaluation\n",
    "train_dict['train_start_pos'] = []     \n",
    "train_dict['train_end_pos'] = []     \n",
    "\n",
    "\n",
    "# Tokenizer\n",
    "tokenizer = AutoTokenizer.from_pretrained('bert-base-cased')\n",
    "tokenizer_mode = True\n",
    "\n",
    "start = time.time()\n",
    "for idx, dialogue in tqdm(enumerate(dialogue_dataset)):\n",
    "    if idx == 100:\n",
    "        break\n",
    "    dial_id_turn_id = []       # running list of <dial_id>_<turn_id> for evaluation\n",
    "    sp_id_list = []            # running list of spans per document\n",
    "    user_utterance_list = []   # running list of user utterances per document\n",
    "    \n",
    "    for turn in dialogue['turns']:\n",
    "        dial_id_turn_id.append(dialogue['dial_id'] + '_' + str(turn['turn_id']))\n",
    "        if turn['role'] == 'user':\n",
    "            # TURN UTTERANCE IS FLATTENED AND ONLY THE [INPUT_IDS] IS STORED\n",
    "            if tokenizer_mode:\n",
    "                turn['utterance'] = tokenizer(turn['utterance'], padding=True, truncation=True, return_tensors=\"pt\")['input_ids'].view(-1)\n",
    "            user_utterance_list.append(turn['utterance'])   # adding user utterance to user_utterance_list\n",
    "        else:\n",
    "            references = turn['references']\n",
    "            ref_sp_id = []\n",
    "            \n",
    "            for ref in references:\n",
    "                ref_sp_id.append(ref['sp_id'])\n",
    "\n",
    "            start_sp_list.append(np.argmin(np.array(ref_start_pos_list)))\n",
    "            end_sp_list.append(np.argmax(np.array(ref_end_pos_list)))\n",
    "            sp_id_list.append(ref_sp_id)          # adding list of sp_ids per dialogue to list of sp_ids per document\n",
    "    \n",
    "    train_dict['train_id_sp'].append(sp_id_list)\n",
    "    train_dict['train_user_utterance'].append(user_utterance_list)\n",
    "    train_dict['train_doc_domain'].append(dialogue['domain'])\n",
    "    train_dict['train_doc_id'].append(dialogue['doc_id'])\n",
    "    train_dict['train_dial_id_turn_id'].append(dial_id_turn_id)\n",
    "    train_dict['train_start_pos'].append(start_sp_list)\n",
    "    train_dict['train_end_pos'].append(end_sp_list)\n",
    "    \n",
    "    for doc in document_dataset:\n",
    "        if doc['doc_id'] == train_dict['train_doc_id'][-1]:\n",
    "            if tokenizer_mode:\n",
    "                doc['doc_text'] = tokenizer(doc['doc_text'], padding=True, truncation=True, return_tensors=\"pt\")['input_ids'].view(-1)\n",
    "            train_dict['train_document'].append(doc['doc_text'])          # adding the total document text\n",
    "            text_sp_2 = []\n",
    "            for train_spans_id in train_dict['train_id_sp'][-1]:    \n",
    "                text_sp = []\n",
    "                \n",
    "                start_sp_list = []         # big start sp list\n",
    "                end_sp_list = []           # big end sp list\n",
    "                \n",
    "                for span in doc['spans']:\n",
    "                    \n",
    "                    ref_start_pos_list = []\n",
    "                    ref_end_pos_list = []\n",
    "                        \n",
    "                    if span['id_sp'] in train_spans_id:\n",
    "                        text_sp.append(span['text_sp'])\n",
    "                        \n",
    "                        ref_start_pos_list.append(ref['start_sp'])\n",
    "                        ref_end_pos_list.append(ref['end_sp'])\n",
    "\n",
    "                \n",
    "                        \n",
    "                text_sp_2.append(text_sp)\n",
    "            train_dict['train_text_sp'].append(text_sp_2)\n",
    "            break\n",
    "end = time.time()\n",
    "print(f'Total time: {end-start}')\n",
    "\n",
    "data = pd.DataFrame(train_dict)"
   ]
  },
  {
   "cell_type": "markdown",
   "id": "ddd5fc1d",
   "metadata": {},
   "source": [
    "Results:"
   ]
  },
  {
   "cell_type": "code",
   "execution_count": 11,
   "id": "033f590f",
   "metadata": {},
   "outputs": [
    {
     "name": "stdout",
     "output_type": "stream",
     "text": [
      "User utterances:\n",
      "[tensor([  101,  8667,   117,   146,  9424,   184, 11984,  1139,  4134,   117,\n",
      "         1169,  1128,  1494,  1143,  1114,  1115,   136,   102]), tensor([  101,  2825,   146,  1202,  1139,   141,  2107,  2559, 14409,  3294,\n",
      "          136,   102]), tensor([  101,  5749,   117,  1105,  1107,  1692,   146,  5042,  1106,  2498,\n",
      "         1155,  1104,  1103, 14371,  1834,  1106,  1103,   141,  2107,  2559,\n",
      "         1701,   117,  1184,  1169,   146,  1202,   136,   102]), tensor([  101, 23330,   117,  1105,  1169,  1128,  1587,  1143,  1254,  1187,\n",
      "         1431,   146,  2592,  1139,  1207,  4134,   136,   102]), tensor([  101,  2825,  1128,  1587,  1143,  1167,  1164, 15727,  1827,  1105,\n",
      "         1147,  2616,   136,   102])]\n",
      "\n",
      "ID Sp:\n",
      "[['6', '7'], ['56'], ['49', '50', '52'], ['6', '7'], ['41', '43']]\n",
      "\n",
      "Doc ID:\n",
      "Top 5 DMV Mistakes and How to Avoid Them#3_0\n",
      "\n",
      "Doc domain:\n",
      "dmv\n",
      "\n",
      "Train text spans:\n",
      "[['you must report a change of address to DMV within ten days of moving. ', 'That is the case for the address associated with your license, as well as all the addresses associated with each registered vehicle, which may differ. '], ['Sign up or log into MyDMV [6 ] '], ['About ten percent of customers visiting a DMV office do not bring what they need to complete their transaction, and have to come back a second time to finish their business. ', 'This can be as simple as not bringing sufficient funds to pay for a license renewal or not having the proof of auto insurance required to register a car. ', 'don t visit a DMV office at all, and see if your transaction can be performed online, like an address change, registration renewal, license renewal, replacing a lost title, paying a DRA or scheduling a road test. '], ['you must report a change of address to DMV within ten days of moving. ', 'That is the case for the address associated with your license, as well as all the addresses associated with each registered vehicle, which may differ. '], ['DMV maintains a point system to track dangerous drivers. ', 'motorists convicted of a traffic ticket feel they have resolved all their motoring issues with the local court, but later learn that the Driver Responsibility Assessment DRA is a separate DMV charge based on the total points they accumulate. ']]\n",
      "\n",
      "Dial_ID Turn_ID:\n",
      "['9f44c1539efe6f7e79b02eb1b413aa43_1', '9f44c1539efe6f7e79b02eb1b413aa43_2', '9f44c1539efe6f7e79b02eb1b413aa43_3', '9f44c1539efe6f7e79b02eb1b413aa43_4', '9f44c1539efe6f7e79b02eb1b413aa43_5', '9f44c1539efe6f7e79b02eb1b413aa43_6', '9f44c1539efe6f7e79b02eb1b413aa43_7', '9f44c1539efe6f7e79b02eb1b413aa43_8', '9f44c1539efe6f7e79b02eb1b413aa43_9', '9f44c1539efe6f7e79b02eb1b413aa43_10']\n"
     ]
    }
   ],
   "source": [
    "print('User utterances:')\n",
    "print(train_dict['train_user_utterance'][0])\n",
    "\n",
    "print('\\nID Sp:')\n",
    "print(train_dict['train_id_sp'][0])\n",
    "\n",
    "print('\\nDoc ID:')\n",
    "print(train_dict['train_doc_id'][0])\n",
    "\n",
    "print('\\nDoc domain:')\n",
    "print(train_dict['train_doc_domain'][0])\n",
    "\n",
    "print('\\nTrain text spans:')\n",
    "print(train_dict['train_text_sp'][0])\n",
    "\n",
    "print('\\nDial_ID Turn_ID:')\n",
    "print(train_dict['train_dial_id_turn_id'][0])"
   ]
  },
  {
   "cell_type": "code",
   "execution_count": 12,
   "id": "254a8616",
   "metadata": {},
   "outputs": [
    {
     "name": "stdout",
     "output_type": "stream",
     "text": [
      "\n",
      "Doc text:\n",
      "tensor([  101,  2408,   141,  2107,  2559,  5793,  1294,  3253,  3644,  1895,\n",
      "        12572,  1115,  2612,  1172,  2418,  2645,   117,  1259, 12270,  1114,\n",
      "         1644,  7742,  1105, 24034,  6094, 21160,  4011,   119,  2279,  1195,\n",
      "         1267,  5793,  1294,  1292, 12572,  1166,  1105,  1166,  1254,   117,\n",
      "         1195,  1132, 16141,  1142,  2190,  1104,  1103,  1499,  1421,   141,\n",
      "         2107,  2559, 12572,  1105,  1293,  1106,  3644,  1172,   119,   122,\n",
      "          119, 17323,  1916,  1106,  3725,  9216, 24930, 18380,  1650, 14610,\n",
      "          117,  1128,  1538,  2592,   170,  1849,  1104,  4134,  1106,   141,\n",
      "         2107,  2559,  1439,  1995,  1552,  1104,  2232,   119,  1337,  1110,\n",
      "         1103,  1692,  1111,  1103,  4134,  2628,  1114,  1240,  5941,   117,\n",
      "         1112,  1218,  1112,  1155,  1103, 11869,  2628,  1114,  1296,  4410,\n",
      "         3686,   117,  1134,  1336, 11271,   119,  1135,  1110,  1136,  6664,\n",
      "         1106,  1178,   131,  3593,  1240,  1207,  4134,  1113,  1103,  1171,\n",
      "         1104,  1240,  1385,  5941,   132,  1587,  1103,  1244,  1311, 20976,\n",
      "         2516,   132,  1137, 12862,  1103,  2021,  2575,  2269,  1128,   170,\n",
      "         7260,   119,  1409,  1128,  8693,  1106,  1712,  1240,  4134,  1954,\n",
      "          117,  1128,  1209,  5529,   170,  8605,  1546,  1105,  1336,  1129,\n",
      "         4601,  1114,  3389,  1126,  8362,  1874, 25019,  7655,  3686,  1105,\n",
      "          120,  1137,   170,  9705,  1611, 18588,  8362, 11815, 19054,  1181,\n",
      "         2805,   117,  1241,  1940,  1116,  2007,  3263,  7428,  1733,   119,\n",
      "         1188,  1541,  5940,   117,  1133,  1103,  1363,  2371,  1110,  1142,\n",
      "         1110,   170,  2463,  1115,  1110,  3253,  3644,  1895,   119, 12958,\n",
      "         4558,  1167,  1164,  1293,  1106,  1849,  1103,  4134,  1113,  1240,\n",
      "         5941,  1105,  9630,  1116,   164,   122,   166,   123,   119, 17003,\n",
      "         1103,  1426,  4914,  1753,  8985,   141,  2107,  2559,  1311, 10621,\n",
      "         1114,  1296,  1168,   117,  1177,  1165,  1128,  1815,  1106,  1330,\n",
      "         1352,   117,  1129,  1612,  1106,  5069,  1146,  1251,  5768,  3769,\n",
      "         4423,  1240,  1203,  1365,  1426,  5941,  1137,  9630,   119,  1337,\n",
      "         2086,  1231, 24313,  3970,  1251,  8362,  5443, 12097,  1174, 10068,\n",
      "          117,  8605,  1116,  1137,  1231, 17105,  1116,   117,  1105,  7906,\n",
      "         1158,  1240,  5941,  7463,  1106,  5883,  1708,  1165,  1128,  1243,\n",
      "         1106,  1240,  1207,  1313,  1352,   119,   138,  5941,  8605,  1137,\n",
      "         1231, 17105,  1303,  1180,  1928,  1115,  1240,  1207,  1313,  1352,\n",
      "         1209,  1136,  2486,  1128,   170,  5941,  1175,   119,  9498,   117,\n",
      "         1122,  1110,  1696,  1106,  1136,  6120,   141,  2107,  2559,  1104,\n",
      "         1240,  1207,  4134,  1177,  1115,  1251,  1936,  6346, 12052,  1169,\n",
      "         2519,  1128,   119,  2907,   117,  3219,  1107,  1240,  7463,  1110,\n",
      "         1696,  1106,  3644,  1126,  5986, 11033,  1162,   119,   124,   119,\n",
      "         2421,  1916, 11037,  2001, 17783,  2279,  1195,  1155,  2653, 18814,\n",
      "         1111, 21110,  5336,  8362,  4935, 10105,  5968,  3681,   117,  1203,\n",
      "         1365,  1426,  5315,  1451,  5968,  1776,  1106,  4731, 12365,  5986,\n",
      "         1451,  1423,  1285,   170,  3686,  1110,  4410,   119,   141,  2107,\n",
      "         2559,  1759,  1114,  5986,  2557,  1106,  4828,  2716,  8804,  1240,\n",
      "         5986,  5811,   117,  1105,  1195,  1221,  1165,  5811,  1110,  2434,\n",
      "         1111,  1251,  2255,   119,  1332,  1115,  5940,   117,  1195,  6346,\n",
      "         1128,  1126,  5986, 12064,  2998,  1106,  2621,  1128,  1106,  2330,\n",
      "         1146,  1103,  2463,   119,  1284,  3952,  2260,   117,  1288, 12064,\n",
      "         3784,   170,  1214,   119,  1409,  1103, 12064,  2998,  1674,  1136,\n",
      "        10820,  1103,  2463,   117,  1195,  1538, 28117, 20080,  6696,  1103,\n",
      "         3686,  9630,  1105,   117,  1191,  1122,  1679, 22398,  1116,   117,\n",
      "         1240,  3445,  5941,   106,  1284, 28117, 20080,  6696,  3127,   117,\n",
      "         1288,   102])\n"
     ]
    }
   ],
   "source": [
    "print('\\nDoc text:')\n",
    "print(train_dict['train_document'][0])"
   ]
  },
  {
   "cell_type": "markdown",
   "id": "86e18443",
   "metadata": {},
   "source": [
    "## Create a Dataframe out of the train_dictionary"
   ]
  },
  {
   "cell_type": "code",
   "execution_count": 13,
   "id": "211d7b3a",
   "metadata": {},
   "outputs": [],
   "source": [
    "data = pd.DataFrame(train_dict)"
   ]
  },
  {
   "cell_type": "code",
   "execution_count": 14,
   "id": "fbe617c8",
   "metadata": {},
   "outputs": [
    {
     "data": {
      "text/plain": [
       "array(['Appeal a TVB ticket conviction#1_0',\n",
       "       'Commercial vehicle registration fees, vehicle use taxes and supplemental fees#3_0',\n",
       "       'DIAL-IN search accounts#3_0',\n",
       "       'New York State Insurance Requirements#3_0',\n",
       "       'Prepare for your road test#3_0',\n",
       "       'Refunds and transfer credits for surrendered plates#3_0',\n",
       "       'Registrations#3_0', 'Renew non-driver ID card#1_0',\n",
       "       'Surrender (return or turn in) your plates to the DMV#3_0',\n",
       "       'Top 5 DMV Mistakes and How to Avoid Them#3_0'], dtype=object)"
      ]
     },
     "execution_count": 14,
     "metadata": {},
     "output_type": "execute_result"
    }
   ],
   "source": [
    "np.unique(data.loc[:,'train_doc_id'])"
   ]
  },
  {
   "cell_type": "code",
   "execution_count": null,
   "id": "10fbb3df",
   "metadata": {},
   "outputs": [],
   "source": []
  },
  {
   "cell_type": "code",
   "execution_count": 15,
   "id": "f62c6fd0",
   "metadata": {},
   "outputs": [],
   "source": [
    "tokenizer = AutoTokenizer.from_pretrained('bert-base-cased')"
   ]
  },
  {
   "cell_type": "code",
   "execution_count": null,
   "id": "fbc320e7",
   "metadata": {},
   "outputs": [],
   "source": [
    "batch_padding = tokenizer(['Hi how are you', 'hi how are you i am ok'], padding=True, truncation=False, return_tensors=\"pt\")"
   ]
  },
  {
   "cell_type": "code",
   "execution_count": null,
   "id": "2261845a",
   "metadata": {},
   "outputs": [],
   "source": [
    "batch_padding"
   ]
  },
  {
   "cell_type": "code",
   "execution_count": null,
   "id": "5f898c38",
   "metadata": {},
   "outputs": [],
   "source": [
    "batch"
   ]
  },
  {
   "cell_type": "code",
   "execution_count": null,
   "id": "7206fe30",
   "metadata": {},
   "outputs": [],
   "source": [
    "tokenizer.decode(batch[\"input_ids\"][0][-2])"
   ]
  },
  {
   "cell_type": "code",
   "execution_count": null,
   "id": "333b6f45",
   "metadata": {},
   "outputs": [],
   "source": [
    "len(batch['input_ids'][0])"
   ]
  },
  {
   "cell_type": "code",
   "execution_count": null,
   "id": "5dba8f78",
   "metadata": {},
   "outputs": [],
   "source": [
    "from datasets import load_metric\n",
    "\n",
    "metric = load_metric(\"squad_v2\")\n",
    "print(metric.features) #this shows you what format the metric is expecting\n",
    "\n",
    "prediction = {'id': <rc dataset is of shape dialid_turnid - this value has to match the answer>,\n",
    "              'prediction_text': <your prediction>,\n",
    "              'no_answer_probability': 0.0} #edwin said we can ignore this for task 1\n",
    "reference = {'id': <see prediction>, \n",
    "              'answers': {\n",
    "                  'text': [list of answer, best to use the ones from the rc dataset],                                       \n",
    "                  'answer_start': [list of numbers of the answer star char again see rc dataset. ]}\n",
    "            }\n",
    "\n",
    "metric.add(prediction=prediction, reference=reference)\n",
    "final_score = metric.compute()\n",
    "final_score"
   ]
  },
  {
   "cell_type": "markdown",
   "id": "46f173f9",
   "metadata": {},
   "source": [
    "# Testing model"
   ]
  },
  {
   "cell_type": "code",
   "execution_count": 70,
   "id": "e7fb18fd",
   "metadata": {},
   "outputs": [],
   "source": [
    "model = BertForQuestionAnswering.from_pretrained('bert-large-uncased-whole-word-masking-finetuned-squad')"
   ]
  },
  {
   "cell_type": "code",
   "execution_count": 156,
   "id": "cc0b781d",
   "metadata": {},
   "outputs": [
    {
     "name": "stdout",
     "output_type": "stream",
     "text": [
      "Decoded question: [CLS] Hello, I forgot o update my address, can you help me with that? [SEP]\n",
      "17\n",
      "[0, 0, 0, 0, 0, 0, 0, 0, 0, 0, 0, 0, 0, 0, 0, 0, 0, 0, 1, 1, 1, 1, 1, 1, 1, 1, 1, 1, 1, 1, 1, 1, 1, 1, 1, 1, 1, 1, 1, 1, 1, 1, 1, 1, 1, 1, 1, 1, 1, 1, 1, 1, 1, 1, 1, 1, 1, 1, 1, 1, 1, 1, 1, 1, 1, 1, 1, 1, 1, 1, 1, 1, 1, 1, 1, 1, 1, 1, 1, 1, 1, 1, 1, 1, 1, 1, 1, 1, 1, 1, 1, 1, 1, 1, 1, 1, 1, 1, 1, 1, 1, 1, 1, 1, 1, 1, 1, 1, 1, 1, 1, 1, 1, 1, 1, 1, 1, 1, 1, 1, 1, 1, 1, 1, 1, 1, 1, 1, 1, 1, 1, 1, 1, 1, 1, 1, 1, 1, 1, 1, 1, 1, 1, 1, 1, 1, 1, 1, 1, 1, 1, 1, 1, 1, 1, 1, 1, 1, 1, 1, 1, 1, 1, 1, 1, 1, 1, 1, 1, 1, 1, 1, 1, 1, 1, 1, 1, 1, 1, 1, 1, 1, 1, 1, 1, 1, 1, 1, 1, 1, 1, 1, 1, 1, 1, 1, 1, 1, 1, 1, 1, 1, 1, 1, 1, 1, 1, 1, 1, 1, 1, 1, 1, 1, 1, 1, 1, 1, 1, 1, 1, 1, 1, 1, 1, 1, 1, 1, 1, 1, 1, 1, 1, 1, 1, 1, 1, 1, 1, 1, 1, 1, 1, 1, 1, 1, 1, 1, 1, 1, 1, 1, 1, 1, 1, 1, 1, 1, 1, 1, 1, 1, 1, 1, 1, 1, 1, 1, 1, 1, 1, 1, 1, 1, 1, 1, 1, 1, 1, 1, 1, 1, 1, 1, 1, 1, 1, 1, 1, 1, 1, 1, 1, 1, 1, 1, 1, 1, 1, 1, 1, 1, 1, 1, 1, 1, 1, 1, 1, 1, 1, 1, 1, 1, 1, 1, 1, 1, 1, 1, 1, 1, 1, 1, 1, 1, 1, 1, 1, 1, 1, 1, 1, 1, 1, 1, 1, 1, 1, 1, 1, 1, 1, 1, 1, 1, 1, 1, 1, 1, 1, 1, 1, 1, 1, 1, 1, 1, 1, 1, 1, 1, 1, 1, 1, 1, 1, 1, 1, 1, 1, 1, 1, 1, 1, 1, 1, 1, 1, 1, 1, 1, 1, 1, 1, 1, 1, 1, 1, 1, 1, 1, 1, 1, 1, 1, 1, 1, 1, 1, 1, 1, 1, 1, 1, 1, 1, 1, 1, 1, 1, 1, 1, 1, 1, 1, 1, 1, 1, 1, 1, 1, 1, 1, 1, 1, 1, 1, 1, 1, 1, 1, 1, 1, 1, 1, 1, 1, 1, 1, 1, 1, 1, 1, 1, 1, 1, 1, 1, 1, 1, 1, 1, 1, 1, 1, 1, 1, 1, 1, 1, 1, 1, 1, 1, 1, 1, 1, 1, 1, 1, 1, 1, 1, 1, 1, 1, 1, 1, 1, 1, 1, 1, 1, 1, 1, 1, 1, 1, 1, 1, 1, 1, 1, 1, 1, 1, 1, 1, 1, 1, 1, 1, 1, 1, 1, 1, 1, 1, 1, 1, 1, 1, 1, 1, 1, 1, 1, 1, 1, 1, 1, 1, 1, 1, 1, 1, 1, 1, 1]\n"
     ]
    }
   ],
   "source": [
    "question=train_dict['train_user_utterance'][0][0]\n",
    "print(f'Decoded question: {tokenizer.decode(question)}')\n",
    "# If already tokenized from dataset\n",
    "text=train_dict['train_document'][0]\n",
    "# if simple text\n",
    "#text='By statute , you must report a change of address to DMV within ten days of moving. That is the case for the address associated with your license, as well as all the addresses associated with each registered vehicle, which may differ.'\n",
    "#text=tokenizer([text],  return_tensors=\"pt\")['input_ids'].view(-1)\n",
    "\n",
    "input_ids=torch.cat((question, text), 0)\n",
    "SEP_token_id=102\n",
    "sep_idx = (input_ids == 102).nonzero(as_tuple=False)[0][0].item()\n",
    "print(sep_idx)\n",
    "num_seg_a = sep_idx+1\n",
    "num_seg_b = len(input_ids) - num_seg_a\n",
    "segment_ids = [0]*num_seg_a + [1]*num_seg_b\n",
    "assert len(segment_ids) == len(input_ids)\n",
    "print(segment_ids)"
   ]
  },
  {
   "cell_type": "code",
   "execution_count": 157,
   "id": "4f45a7f8",
   "metadata": {},
   "outputs": [
    {
     "name": "stdout",
     "output_type": "stream",
     "text": [
      "\n",
      "Question:\n",
      "[CLS] Hello, I forgot o update my address, can you help me with that? [SEP]\n",
      "\n",
      "Answer:\n",
      "[CLS].\n"
     ]
    }
   ],
   "source": [
    "input_ids_trunc = input_ids[:512]\n",
    "segment_ids_trunc = segment_ids[:512] \n",
    "output = model(input_ids_trunc.view(1,-1), token_type_ids=torch.tensor([segment_ids_trunc]))\n",
    "tokens = tokenizer.convert_ids_to_tokens(input_ids_trunc)\n",
    "#tokens with highest start and end scores\n",
    "answer_start = torch.argmax(output.start_logits)\n",
    "answer_end = torch.argmax(output.end_logits)\n",
    "if answer_end >= answer_start:\n",
    "    answer = \" \".join(tokens[answer_start:answer_end+1])\n",
    "else:\n",
    "    print(\"I am unable to find the answer to this question. Can you please ask another question?\")\n",
    "    \n",
    "print(\"\\nQuestion:\\n{}\".format(tokenizer.decode(question)))\n",
    "print(\"\\nAnswer:\\n{}.\".format(answer))"
   ]
  },
  {
   "cell_type": "markdown",
   "id": "e8ed9241",
   "metadata": {},
   "source": [
    "## Without pre-tokenization"
   ]
  },
  {
   "cell_type": "code",
   "execution_count": 185,
   "id": "01f6aed8",
   "metadata": {},
   "outputs": [
    {
     "name": "stdout",
     "output_type": "stream",
     "text": [
      "['\\n\\nBenefits', 'Planner:', 'Survivors', '|', 'Planning', 'For', 'Your', 'Survivors', '\\nAs', 'you', 'plan', 'for', 'the', 'future', ',', \"you'll\", 'want', 'to', 'think', 'about', 'what', 'your', 'family', 'would', 'need', 'if', 'you', 'should', 'die', 'now.', 'Social', 'Security', 'can', 'help', 'your', 'family', 'if', 'you', 'have', 'earned', 'enough', 'Social', 'Security', 'credits', 'through', 'your', 'work.', 'You', 'can', 'earn', 'up', 'to', 'four', 'credits', 'each', 'year.', 'In', '2019', ',', 'for', 'example', ',', 'you', 'earn', 'one', 'credit', 'for', 'each', '$1,360', 'of', 'wages', 'or', 'self', '-', 'employment', 'income.', 'When', 'you', 'have', 'earned', '$5,440', ',', 'you', 'have', 'earned', 'your', 'four', 'credits', 'for', 'the', 'year.', 'The', 'number', 'of', 'credits', 'needed', 'to', 'provide', 'benefits', 'for', 'your', 'survivors', 'depends', 'on', 'your', 'age', 'when', 'you', 'die.', 'No', 'one', 'needs', 'more', 'than', '40', 'credits', '10', 'years', 'of', 'work', 'to', 'be', 'eligible', 'for', 'any', 'Social', 'Security', 'benefit.', 'But', ',', 'the', 'younger', 'a', 'person', 'is', ',', 'the', 'fewer', 'credits', 'they', 'must', 'have', 'for', 'family', 'members', 'to', 'receive', 'survivors', 'benefits.', 'Benefits', 'can', 'be', 'paid', 'to', 'your', 'children', 'and', 'your', 'spouse', 'who', 'is', 'caring', 'for', 'the', 'children', 'even', 'if', 'you', \"don't\", 'have', 'the', 'required', 'number', 'of', 'credits.', 'They', 'can', 'get', 'benefits', 'if', 'you', 'have', 'credit', 'for', 'one', 'and', 'one', '-', 'half', 'years', 'of', 'work', '6', 'credits', 'in', 'the', 'three', 'years', 'just', 'before', 'your', 'death.', '\\n\\nFor', 'Your', 'Widow', 'Or', 'Widower', '\\nThere', 'are', 'about', 'five', 'million', 'widows', 'and', 'widowers', 'receiving', 'monthly', 'Social', 'Security', 'benefits', 'based', 'on', 'their', 'deceased', \"spouse's\", 'earnings', 'record.', 'And', ',', 'for', 'many', 'of', 'those', 'survivors,', 'particularly', 'aged', 'women,', 'those', 'benefits', 'are', 'keeping', 'them', 'out', 'of', 'poverty.', 'Widows', 'and', 'widowers', 'can', 'receive', ':', 'reduced', 'benefits', 'as', 'early', 'as', 'age', '60', 'or', 'full', 'benefits', 'at', 'full', 'retirement', 'age', 'or', 'older.', 'benefits', 'as', 'early', 'as', 'age', '50', 'if', \"they're\", 'disabled', 'AND', 'their', 'disability', 'started', 'before', 'or', 'within', 'seven', 'years', 'of', 'your', 'death.', 'benefits', 'at', 'any', 'age', ',', 'if', 'they', 'have', 'not', 'remarried', ',', 'and', 'if', 'they', 'take', 'care', 'of', 'your', 'child', 'who', 'is', 'under', 'age', '16', 'or', 'disabled', 'and', 'receives', 'benefits', 'on', 'your', 'record.', 'If', 'applying', 'for', 'disability', 'benefits', 'on', 'a', 'deceased', 'worker', 's', 'record', ',', 'they', 'can', 'speed', 'up', 'the', 'application', 'process', 'if', 'they', 'complete', 'an', 'Adult', 'Disability', 'Report', 'and', 'have', 'it', 'available', 'at', 'the', 'time', 'of', 'their', 'appointment.', 'We', 'use', 'the', 'same', 'definition', 'of', 'disability', 'for', 'widows', 'and', 'widowers', 'as', 'we', 'do', 'for', 'workers.', '\\n\\nFor', 'Your', 'Surviving', 'Divorced', 'Spouse', '\\nIf', 'you', 'have', 'a', 'surviving', 'divorced', 'spouse', ',', 'they', 'could', 'get', 'the', 'same', 'benefits', 'as', 'your', 'widow', 'or', 'widower', 'provided', 'that', 'your', 'marriage', 'lasted', '10', 'years', 'or', 'more.', 'Benefits', 'paid', 'to', 'a', 'surviving', 'divorced', 'spouse', \"won't\", 'affect', 'the', 'benefit', 'amounts', 'your', 'other', 'survivors', 'will', 'receive', 'based', 'on', 'your', 'earnings', 'record.', 'If', 'your', 'former', 'spouse', 'is', 'caring', 'for', 'your', 'child', 'who', 'is', 'under', 'age', '16', 'or', 'disabled', 'and', 'gets', 'benefits', 'on', 'your', 'record', ',', 'they', 'will', 'not', 'have', 'to', 'meet', 'the', 'length', '-', 'of', '-', 'marriage', 'rule.', 'The', 'child', 'must', 'be', 'your', 'natural', 'or', 'legally', 'adopted', 'child.', '\\n\\nFor', 'Your', 'Children', '\\nYour', 'unmarried', 'children', 'who', 'are', 'under', '18', 'up', 'to', 'age', '19', 'if', 'attending', 'elementary', 'or', 'secondary', 'school', 'full', 'time', 'can', 'be', 'eligible', 'to', 'receive', 'Social', 'Security', 'benefits', 'when', 'you', 'die.', 'And', 'your', 'child', 'can', 'get', 'benefits']\n"
     ]
    },
    {
     "ename": "TypeError",
     "evalue": "expected Tensor as element 1 in argument 0, but got str",
     "output_type": "error",
     "traceback": [
      "\u001b[0;31m---------------------------------------------------------------------------\u001b[0m",
      "\u001b[0;31mTypeError\u001b[0m                                 Traceback (most recent call last)",
      "\u001b[0;32m/var/folders/yl/kyjv_cpj1j70_ry0q6699fbh0000gq/T/ipykernel_54659/2710784866.py\u001b[0m in \u001b[0;36m<module>\u001b[0;34m\u001b[0m\n\u001b[1;32m      2\u001b[0m \u001b[0mprint\u001b[0m\u001b[0;34m(\u001b[0m\u001b[0mtext\u001b[0m\u001b[0;34m.\u001b[0m\u001b[0msplit\u001b[0m\u001b[0;34m(\u001b[0m\u001b[0;34m\" \"\u001b[0m\u001b[0;34m)\u001b[0m\u001b[0;34m[\u001b[0m\u001b[0;34m:\u001b[0m\u001b[0;36m512\u001b[0m\u001b[0;34m]\u001b[0m\u001b[0;34m)\u001b[0m\u001b[0;34m\u001b[0m\u001b[0;34m\u001b[0m\u001b[0m\n\u001b[1;32m      3\u001b[0m \u001b[0;31m#text=\"Bristol is a city, ceremonial county and unitary authority in England. Situated on the River Avon, it is bordered by the ceremonial counties of Gloucestershire, to the north; and Somerset, to the south. Bristol is the most populous city in South West England. The wider Bristol Built-up Area is the eleventh most populous urban area in the United Kingdom.\"\u001b[0m\u001b[0;34m\u001b[0m\u001b[0;34m\u001b[0m\u001b[0m\n\u001b[0;32m----> 4\u001b[0;31m \u001b[0minput_ids\u001b[0m\u001b[0;34m=\u001b[0m\u001b[0mtorch\u001b[0m\u001b[0;34m.\u001b[0m\u001b[0mcat\u001b[0m\u001b[0;34m(\u001b[0m\u001b[0;34m(\u001b[0m\u001b[0mquestion\u001b[0m\u001b[0;34m,\u001b[0m \u001b[0mtext\u001b[0m\u001b[0;34m)\u001b[0m\u001b[0;34m,\u001b[0m \u001b[0;36m0\u001b[0m\u001b[0;34m)\u001b[0m\u001b[0;34m\u001b[0m\u001b[0;34m\u001b[0m\u001b[0m\n\u001b[0m\u001b[1;32m      5\u001b[0m \u001b[0mSEP_token_id\u001b[0m\u001b[0;34m=\u001b[0m\u001b[0;36m102\u001b[0m\u001b[0;34m\u001b[0m\u001b[0;34m\u001b[0m\u001b[0m\n\u001b[1;32m      6\u001b[0m \u001b[0msep_idx\u001b[0m \u001b[0;34m=\u001b[0m \u001b[0;34m(\u001b[0m\u001b[0minput_ids\u001b[0m \u001b[0;34m==\u001b[0m \u001b[0;36m102\u001b[0m\u001b[0;34m)\u001b[0m\u001b[0;34m.\u001b[0m\u001b[0mnonzero\u001b[0m\u001b[0;34m(\u001b[0m\u001b[0mas_tuple\u001b[0m\u001b[0;34m=\u001b[0m\u001b[0;32mFalse\u001b[0m\u001b[0;34m)\u001b[0m\u001b[0;34m[\u001b[0m\u001b[0;36m0\u001b[0m\u001b[0;34m]\u001b[0m\u001b[0;34m[\u001b[0m\u001b[0;36m0\u001b[0m\u001b[0;34m]\u001b[0m\u001b[0;34m.\u001b[0m\u001b[0mitem\u001b[0m\u001b[0;34m(\u001b[0m\u001b[0;34m)\u001b[0m\u001b[0;34m\u001b[0m\u001b[0;34m\u001b[0m\u001b[0m\n",
      "\u001b[0;31mTypeError\u001b[0m: expected Tensor as element 1 in argument 0, but got str"
     ]
    }
   ],
   "source": [
    "text=document_dataset[0]['doc_text']\n",
    "print(text.split(\" \")[:512])\n",
    "#text=\"Bristol is a city, ceremonial county and unitary authority in England. Situated on the River Avon, it is bordered by the ceremonial counties of Gloucestershire, to the north; and Somerset, to the south. Bristol is the most populous city in South West England. The wider Bristol Built-up Area is the eleventh most populous urban area in the United Kingdom.\"\n",
    "input_ids=torch.cat((question, text), 0)\n",
    "SEP_token_id=102\n",
    "sep_idx = (input_ids == 102).nonzero(as_tuple=False)[0][0].item()\n",
    "print(sep_idx)\n",
    "num_seg_a = sep_idx+1\n",
    "num_seg_b = len(input_ids) - num_seg_a\n",
    "segment_ids = [0]*num_seg_a + [1]*num_seg_b\n",
    "assert len(segment_ids) == len(input_ids)\n",
    "print(segment_ids)"
   ]
  },
  {
   "cell_type": "markdown",
   "id": "3e5e0a8c",
   "metadata": {},
   "source": [
    "## Using char_to_token"
   ]
  },
  {
   "cell_type": "code",
   "execution_count": 181,
   "id": "074cd078",
   "metadata": {},
   "outputs": [
    {
     "name": "stdout",
     "output_type": "stream",
     "text": [
      "4\n"
     ]
    }
   ],
   "source": [
    "string = 'Hi how are you everything is fine thanks ok bye'\n",
    "answer_start = 11\n",
    "answer_end = 25\n",
    "string_tokenized = tokenizer(string, return_tensors=\"pt\")\n",
    "token_start = string_tokenized.char_to_token(answer_start)\n",
    "print(token_start)"
   ]
  },
  {
   "cell_type": "code",
   "execution_count": 183,
   "id": "3b54276e",
   "metadata": {},
   "outputs": [
    {
     "data": {
      "text/plain": [
       "{'input_ids': tensor([[  101,  8790,  1293,  1132,  1128,  1917,  1110,  2503,  5438, 21534,\n",
       "         11901,   102]]), 'token_type_ids': tensor([[0, 0, 0, 0, 0, 0, 0, 0, 0, 0, 0, 0]]), 'attention_mask': tensor([[1, 1, 1, 1, 1, 1, 1, 1, 1, 1, 1, 1]])}"
      ]
     },
     "execution_count": 183,
     "metadata": {},
     "output_type": "execute_result"
    }
   ],
   "source": [
    "string_tokenized"
   ]
  },
  {
   "cell_type": "code",
   "execution_count": null,
   "id": "81528e04",
   "metadata": {},
   "outputs": [],
   "source": []
  }
 ],
 "metadata": {
  "kernelspec": {
   "display_name": "Python 3 (ipykernel)",
   "language": "python",
   "name": "python3"
  },
  "language_info": {
   "codemirror_mode": {
    "name": "ipython",
    "version": 3
   },
   "file_extension": ".py",
   "mimetype": "text/x-python",
   "name": "python",
   "nbconvert_exporter": "python",
   "pygments_lexer": "ipython3",
   "version": "3.9.7"
  }
 },
 "nbformat": 4,
 "nbformat_minor": 5
}
